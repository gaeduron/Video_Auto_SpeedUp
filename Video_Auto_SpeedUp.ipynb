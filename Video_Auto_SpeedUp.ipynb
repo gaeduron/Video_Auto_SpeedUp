{
 "cells": [
  {
   "cell_type": "markdown",
   "metadata": {},
   "source": [
    "# Video Auto SpeedUp\n",
    "\n",
    "### To start the script:\n",
    "\n",
    "1. Execute the first code cell\n",
    "1. Select the video file you want to speedup\n",
    "1. (Optional) Change the options to your need\n",
    "1. Click the **Edit video** button to start the script"
   ]
  },
  {
   "cell_type": "code",
   "execution_count": null,
   "metadata": {},
   "outputs": [],
   "source": [
    "from vspeedup.main import interface\n",
    "\n",
    "# options\n",
    "volume_threshold = 0.01 # default 0.01\n",
    "speed            = 4\n",
    "verbose          = True\n",
    "\n",
    "interface(volume_threshold, speed, verbose)"
   ]
  }
 ],
 "metadata": {
  "kernelspec": {
   "display_name": "Python 3",
   "language": "python",
   "name": "python3"
  },
  "language_info": {
   "codemirror_mode": {
    "name": "ipython",
    "version": 3
   },
   "file_extension": ".py",
   "mimetype": "text/x-python",
   "name": "python",
   "nbconvert_exporter": "python",
   "pygments_lexer": "ipython3",
   "version": "3.7.3"
  }
 },
 "nbformat": 4,
 "nbformat_minor": 2
}
